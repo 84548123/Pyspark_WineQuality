{
  "nbformat": 4,
  "nbformat_minor": 0,
  "metadata": {
    "colab": {
      "provenance": []
    },
    "kernelspec": {
      "name": "python3",
      "display_name": "Python 3"
    },
    "language_info": {
      "name": "python"
    }
  },
  "cells": [
    {
      "cell_type": "markdown",
      "source": [
        "# Program 4: Wine Quality Dataset Analysis\n",
        "\n",
        "## This program demonstrates making use of SparkSession instead of the conf and spark context and then we load the wine quality dataset and create a Dataframe using spark instead of RDD and use filter. Also we do not use list as dataset but the entire wine dataset\n",
        "\n",
        "# Aryan Shetty\n",
        "# 23MBD029"
      ],
      "metadata": {
        "id": "21PKQW_FysJo"
      }
    },
    {
      "cell_type": "code",
      "execution_count": null,
      "metadata": {
        "colab": {
          "base_uri": "https://localhost:8080/"
        },
        "id": "4AsfxbLOynhN",
        "outputId": "d0b7bc3c-a269-4e33-e31c-1689b5f667ec"
      },
      "outputs": [
        {
          "output_type": "stream",
          "name": "stdout",
          "text": [
            "Collecting pySpark\n",
            "  Downloading pyspark-3.5.2.tar.gz (317.3 MB)\n",
            "\u001b[2K     \u001b[90m━━━━━━━━━━━━━━━━━━━━━━━━━━━━━━━━━━━━━━━━\u001b[0m \u001b[32m317.3/317.3 MB\u001b[0m \u001b[31m1.6 MB/s\u001b[0m eta \u001b[36m0:00:00\u001b[0m\n",
            "\u001b[?25h  Preparing metadata (setup.py) ... \u001b[?25l\u001b[?25hdone\n",
            "Requirement already satisfied: py4j==0.10.9.7 in /usr/local/lib/python3.10/dist-packages (from pySpark) (0.10.9.7)\n",
            "Building wheels for collected packages: pySpark\n",
            "  Building wheel for pySpark (setup.py) ... \u001b[?25l\u001b[?25hdone\n",
            "  Created wheel for pySpark: filename=pyspark-3.5.2-py2.py3-none-any.whl size=317812365 sha256=7a162660211cd676dfd7007433dd0fc36b4b1aa5e5adff15f4fb31fc78a30d5c\n",
            "  Stored in directory: /root/.cache/pip/wheels/34/34/bd/03944534c44b677cd5859f248090daa9fb27b3c8f8e5f49574\n",
            "Successfully built pySpark\n",
            "Installing collected packages: pySpark\n",
            "Successfully installed pySpark-3.5.2\n"
          ]
        }
      ],
      "source": [
        "pip install pySpark"
      ]
    },
    {
      "cell_type": "code",
      "source": [
        "from pyspark.sql import SparkSession\n",
        "from pyspark.sql.functions import col"
      ],
      "metadata": {
        "id": "je0Q7ByK4_fh"
      },
      "execution_count": null,
      "outputs": []
    },
    {
      "cell_type": "code",
      "source": [
        "# Initializing Spark session\n",
        "spark_aryan = SparkSession.builder.appName(\"WineQualityAnalyzer\").getOrCreate()"
      ],
      "metadata": {
        "id": "FYI3lxFq5C7P"
      },
      "execution_count": null,
      "outputs": []
    },
    {
      "cell_type": "code",
      "source": [
        "spark_aryan"
      ],
      "metadata": {
        "colab": {
          "base_uri": "https://localhost:8080/",
          "height": 219
        },
        "id": "Y-WMwGpX5Gre",
        "outputId": "305857de-f26d-469b-e3b9-02bc01ceea2e"
      },
      "execution_count": null,
      "outputs": [
        {
          "output_type": "execute_result",
          "data": {
            "text/plain": [
              "<pyspark.sql.session.SparkSession at 0x7a224ed16830>"
            ],
            "text/html": [
              "\n",
              "            <div>\n",
              "                <p><b>SparkSession - in-memory</b></p>\n",
              "                \n",
              "        <div>\n",
              "            <p><b>SparkContext</b></p>\n",
              "\n",
              "            <p><a href=\"http://7f47c39db2d2:4040\">Spark UI</a></p>\n",
              "\n",
              "            <dl>\n",
              "              <dt>Version</dt>\n",
              "                <dd><code>v3.5.2</code></dd>\n",
              "              <dt>Master</dt>\n",
              "                <dd><code>local[*]</code></dd>\n",
              "              <dt>AppName</dt>\n",
              "                <dd><code>WineQualityAnalyzer</code></dd>\n",
              "            </dl>\n",
              "        </div>\n",
              "        \n",
              "            </div>\n",
              "        "
            ]
          },
          "metadata": {},
          "execution_count": 6
        }
      ]
    },
    {
      "cell_type": "code",
      "source": [
        "# Loading the wine quality dataset (using PySpark's inbuilt sample datasets)\n",
        "df = spark.read.format(\"csv\").option(\"header\", \"true\").option(\"inferSchema\", \"true\").load(\"/content/winequality-red.csv\")"
      ],
      "metadata": {
        "id": "otGsqUms5MXe"
      },
      "execution_count": 7,
      "outputs": []
    },
    {
      "cell_type": "code",
      "source": [
        "df_.show(5)"
      ],
      "metadata": {
        "colab": {
          "base_uri": "https://localhost:8080/"
        },
        "id": "9EXmAeTn5VLO",
        "outputId": "e5c32f42-ddea-4b13-f075-988ce54350f2"
      },
      "execution_count": null,
      "outputs": [
        {
          "output_type": "stream",
          "name": "stdout",
          "text": [
            "+-------------+----------------+-----------+--------------+---------+-------------------+--------------------+-------+----+---------+-------+-------+\n",
            "|fixed acidity|volatile acidity|citric acid|residual sugar|chlorides|free sulfur dioxide|total sulfur dioxide|density|  pH|sulphates|alcohol|quality|\n",
            "+-------------+----------------+-----------+--------------+---------+-------------------+--------------------+-------+----+---------+-------+-------+\n",
            "|          7.4|             0.7|        0.0|           1.9|    0.076|               11.0|                34.0| 0.9978|3.51|     0.56|    9.4|      5|\n",
            "|          7.8|            0.88|        0.0|           2.6|    0.098|               25.0|                67.0| 0.9968| 3.2|     0.68|    9.8|      5|\n",
            "|          7.8|            0.76|       0.04|           2.3|    0.092|               15.0|                54.0|  0.997|3.26|     0.65|    9.8|      5|\n",
            "|         11.2|            0.28|       0.56|           1.9|    0.075|               17.0|                60.0|  0.998|3.16|     0.58|    9.8|      6|\n",
            "|          7.4|             0.7|        0.0|           1.9|    0.076|               11.0|                34.0| 0.9978|3.51|     0.56|    9.4|      5|\n",
            "+-------------+----------------+-----------+--------------+---------+-------------------+--------------------+-------+----+---------+-------+-------+\n",
            "only showing top 5 rows\n",
            "\n"
          ]
        }
      ]
    },
    {
      "cell_type": "code",
      "source": [
        "# Filtering for wines with a quality rating of 7 or higher\n",
        "df_filtered_ = df_.filter(col(\"quality\") >= 7)\n",
        "\n",
        "# Showing the filtered data\n",
        "df_filtered_.show()\n",
        "\n",
        "# Stopping Spark session\n",
        "spark_aryan.stop()\n"
      ],
      "metadata": {
        "colab": {
          "base_uri": "https://localhost:8080/"
        },
        "id": "AqUZizsg5lB2",
        "outputId": "9545da26-5b73-454c-c45f-e13f4c33879c"
      },
      "execution_count": null,
      "outputs": [
        {
          "output_type": "stream",
          "name": "stdout",
          "text": [
            "+-------------+----------------+-----------+--------------+--------------------+-------------------+--------------------+-------+----+---------+-------+-------+\n",
            "|fixed acidity|volatile acidity|citric acid|residual sugar|           chlorides|free sulfur dioxide|total sulfur dioxide|density|  pH|sulphates|alcohol|quality|\n",
            "+-------------+----------------+-----------+--------------+--------------------+-------------------+--------------------+-------+----+---------+-------+-------+\n",
            "|          7.3|            0.65|        0.0|           1.2|               0.065|               15.0|                21.0| 0.9946|3.39|     0.47|   10.0|      7|\n",
            "|          7.8|            0.58|       0.02|           2.0|               0.073|                9.0|                18.0| 0.9968|3.36|     0.57|    9.5|      7|\n",
            "|          8.5|            0.28|       0.56|           1.8|               0.092|               35.0|               103.0| 0.9969| 3.3|     0.75|   10.5|      7|\n",
            "|          8.1|            0.38|       0.28|           2.1|               0.066|               13.0|                30.0| 0.9968|3.23|     0.73|    9.7|      7|\n",
            "|          7.5|            0.52|       0.16|           1.9|               0.085|               12.0|                35.0| 0.9968|3.38|     0.62|    9.5|      7|\n",
            "|          8.0|            0.59|       0.16|           1.8|               0.065|                3.0|                16.0| 0.9962|3.42|     0.92|   10.5|      7|\n",
            "|          5.4|           0.835|       0.08|           1.2|               0.046|               13.0|                93.0| 0.9924|3.57|     0.85|   13.0|      7|\n",
            "|          9.6|            0.32|       0.47|           1.4|0.055999999999999994|                9.0|                24.0|0.99695|3.22|     0.82|   10.3|      7|\n",
            "|         12.8|             0.3|       0.74|           2.6|               0.095|                9.0|                28.0| 0.9994| 3.2|     0.77|   10.8|      7|\n",
            "|         12.8|             0.3|       0.74|           2.6|               0.095|                9.0|                28.0| 0.9994| 3.2|     0.77|   10.8|      7|\n",
            "|         11.0|             0.3|       0.58|           2.1|0.054000000000000006|                7.0|                19.0|  0.998|3.31|     0.88|   10.5|      7|\n",
            "|          5.2|            0.48|       0.04|           1.6|0.054000000000000006|               19.0|               106.0| 0.9927|3.54|     0.62|   12.2|      7|\n",
            "|         15.0|            0.21|       0.44|           2.2|               0.075|               10.0|                24.0|1.00005|3.07|     0.84|    9.2|      7|\n",
            "|         15.0|            0.21|       0.44|           2.2|               0.075|               10.0|                24.0|1.00005|3.07|     0.84|    9.2|      7|\n",
            "|         10.0|            0.31|       0.47|           2.6|               0.085|               14.0|                33.0|0.99965|3.36|      0.8|   10.5|      7|\n",
            "|         11.8|            0.26|       0.52|           1.8|               0.071|                6.0|                10.0| 0.9968| 3.2|     0.72|   10.2|      7|\n",
            "|          7.9|            0.35|       0.46|           3.6|               0.078|               15.0|                37.0| 0.9973|3.35|     0.86|   12.8|      8|\n",
            "|         10.3|            0.32|       0.45|           6.4|               0.073|                5.0|                13.0| 0.9976|3.23|     0.82|   12.6|      8|\n",
            "|          8.9|             0.4|       0.32|           5.6|               0.087|               10.0|                47.0| 0.9991|3.38|     0.77|   10.5|      7|\n",
            "|          7.7|            0.27|       0.68|           3.5|               0.358|                5.0|                10.0| 0.9972|3.25|     1.08|    9.9|      7|\n",
            "+-------------+----------------+-----------+--------------+--------------------+-------------------+--------------------+-------+----+---------+-------+-------+\n",
            "only showing top 20 rows\n",
            "\n"
          ]
        }
      ]
    }
  ]
}